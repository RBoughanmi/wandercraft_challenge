{
 "cells": [
  {
   "cell_type": "code",
   "execution_count": null,
   "id": "29695dc5",
   "metadata": {},
   "outputs": [
    {
     "name": "stdout",
     "output_type": "stream",
     "text": [
      "Distance totale : 1970720\n"
     ]
    }
   ],
   "source": [
    "\"\"\"Day 1\"\"\"\n",
    "##Part 1 \n",
    "# 1. read the 2 lists\n",
    "with open(\"input.txt\") as f:\n",
    "    lines = f.read().splitlines()\n",
    "\n",
    "# 2. seperate the lists\n",
    "left_list = []\n",
    "right_list = []\n",
    "for line in lines:\n",
    "    if line.strip():  # ignore the empty lists\n",
    "        parts = line.strip().split()\n",
    "        if len(parts) == 2:\n",
    "            left, right = map(int, parts)\n",
    "            left_list.append(left)\n",
    "            right_list.append(right)\n",
    "\n",
    "# 3. sort the lists\n",
    "left_list.sort()\n",
    "right_list.sort()\n",
    "\n",
    "# 4. calculate the whole distance\n",
    "total_distance = sum(abs(a - b) for a, b in zip(left_list, right_list))\n",
    "\n",
    "# result\n",
    "print(\"The total distance is :\", total_distance)\n"
   ]
  },
  {
   "cell_type": "code",
   "execution_count": null,
   "id": "e3f6eb97",
   "metadata": {},
   "outputs": [
    {
     "name": "stdout",
     "output_type": "stream",
     "text": [
      "17191599\n"
     ]
    }
   ],
   "source": [
    "\"\"\"Day 1\"\"\"\n",
    "#Part 2 (first method)\n",
    "similarity_list = []\n",
    "for left_num in left_list:\n",
    "    occ = 0\n",
    "    for right_num in right_list:\n",
    "        if left_num == right_num:\n",
    "            occ += 1 \n",
    "    similarity_list.append(left_num*occ)\n",
    "\n",
    "similarity_score = sum(similarity_list)\n",
    "\n",
    "print(similarity_score)"
   ]
  },
  {
   "cell_type": "code",
   "execution_count": null,
   "id": "413afcb9",
   "metadata": {},
   "outputs": [
    {
     "name": "stdout",
     "output_type": "stream",
     "text": [
      "Similarity score: 17191599\n"
     ]
    }
   ],
   "source": [
    "\"\"\"Day 1\"\"\"\n",
    "##Part 2 (Second method)\n",
    "\n",
    "from collections import Counter\n",
    "\n",
    "right_counter = Counter(right_list)\n",
    "\n",
    "similarity_score = sum(left * right_counter[left] for left in left_list)\n",
    "\n",
    "print(\"Similarity score:\", similarity_score)\n"
   ]
  },
  {
   "cell_type": "code",
   "execution_count": null,
   "id": "ac63f4aa",
   "metadata": {},
   "outputs": [
    {
     "name": "stdout",
     "output_type": "stream",
     "text": [
      "the number of safe counts is : 524\n",
      "<class 'list'> <class 'str'>\n"
     ]
    }
   ],
   "source": [
    "\"\"\"Day 2\"\"\"\n",
    "##Part 1\n",
    "\n",
    "def is_safe(report):\n",
    "    diffs = []\n",
    "    for i in range(1, len(report)):\n",
    "        diff = report[i] - report[i-1]\n",
    "        if diff == 0 or abs(diff) > 3:\n",
    "            return False\n",
    "        diffs.append(diff)\n",
    "\n",
    "    # Either all increasing or all decreasing\n",
    "    all_positive = all(d > 0 for d in diffs)\n",
    "    all_negative = all(d < 0 for d in diffs)\n",
    "    \n",
    "    return all_positive or all_negative\n",
    "\n",
    "\n",
    "# reading the lists\n",
    "with open(\"input2.txt\") as f:\n",
    "    reports = f.read().strip().splitlines()\n",
    "\n",
    "\n",
    "# Counting safe reports\n",
    "safe_count = 0\n",
    "for report in reports:\n",
    "    levels = list(map(int, report.strip().split()))\n",
    "    if is_safe(levels):\n",
    "        safe_count += 1\n",
    "\n",
    "print(\"the number of safe counts is :\", safe_count)\n"
   ]
  },
  {
   "cell_type": "code",
   "execution_count": null,
   "id": "efcfec3a",
   "metadata": {},
   "outputs": [
    {
     "name": "stdout",
     "output_type": "stream",
     "text": [
      "The number of safe reports with dampener is: 569\n"
     ]
    }
   ],
   "source": [
    "\"\"\"Day 2 \"\"\"\n",
    "## Part 2: Safe Reports with the Problem Dampener\n",
    "\n",
    "def is_safe_with_dampener(report):\n",
    "    # First, check if the report is already safe\n",
    "    if is_safe(report):\n",
    "        return True\n",
    "\n",
    "    # Try removing each level one by one and check if the resulting report is safe\n",
    "    for i in range(len(report)):\n",
    "        reduced_report = report[:i] + report[i+1:]\n",
    "        \n",
    "        # Check if the reduced report is safe\n",
    "        if is_safe(reduced_report):\n",
    "            return True\n",
    "\n",
    "    # If no single removal makes the report safe, return False\n",
    "    return False\n",
    "\n",
    "# Reading the reports again, assuming reports are stored as lists of integers from Part 1\n",
    "with open(\"input2.txt\") as f:\n",
    "    reports = [list(map(int, line.split())) for line in f.read().strip().splitlines()]\n",
    "\n",
    "# Counting safe reports with the dampener\n",
    "safe_with_dampener_count = 0\n",
    "for report in reports:\n",
    "    if is_safe_with_dampener(report):\n",
    "        safe_with_dampener_count += 1\n",
    "\n",
    "# Print the result\n",
    "print(\"The number of safe reports with dampener is:\", safe_with_dampener_count)\n"
   ]
  },
  {
   "cell_type": "code",
   "execution_count": 15,
   "id": "10c11727",
   "metadata": {},
   "outputs": [
    {
     "name": "stdout",
     "output_type": "stream",
     "text": [
      "Total sum of valid multiplications: 178794710\n"
     ]
    }
   ],
   "source": [
    "\"\"\"Day 3\"\"\"\n",
    "##Part 1\n",
    "\n",
    "import re\n",
    "\n",
    "# Load the full input from a file or paste it as a string\n",
    "with open(\"input3.txt\") as f:\n",
    "    data = f.read()\n",
    "\n",
    "# Find all valid mul(X,Y) patterns with 1-3 digit numbers\n",
    "matches = re.findall(r'mul\\((\\d{1,3}),(\\d{1,3})\\)', data)\n",
    "\n",
    "# Sum the result of each multiplication\n",
    "total = sum(int(x) * int(y) for x, y in matches)\n",
    "\n",
    "print(\"Total sum of valid multiplications:\", total)\n"
   ]
  },
  {
   "cell_type": "code",
   "execution_count": 20,
   "id": "c74b64bb",
   "metadata": {},
   "outputs": [
    {
     "name": "stdout",
     "output_type": "stream",
     "text": [
      "Total sum of valid multiplications using the enabling is 76729637\n"
     ]
    }
   ],
   "source": [
    "\"\"\"Day 3\"\"\"\n",
    "##Part 2\n",
    "\n",
    "import re\n",
    "\n",
    "def evaluate_enabled_muls(input_text):\n",
    "    # Find all tokens in the format of mul(a,b), do(), or don't()\n",
    "    tokens = re.findall(r\"do\\(\\)|don't\\(\\)|mul\\(\\d+,\\d+\\)\", input_text)\n",
    "\n",
    "    mul_enabled = True  # Initially enabled\n",
    "    total = 0\n",
    "\n",
    "    for token in tokens:\n",
    "        if token == \"do()\":\n",
    "            mul_enabled = True\n",
    "        elif token == \"don't()\":\n",
    "            mul_enabled = False\n",
    "        elif token.startswith(\"mul(\") and mul_enabled:\n",
    "            a, b = map(int, re.findall(r\"\\d+\", token))\n",
    "            total += a * b\n",
    "\n",
    "    return total\n",
    "\n",
    "#total of the enabled matches \n",
    "enabled = evaluate_enabled_muls(data)\n",
    "\n",
    "print(\"Total sum of valid multiplications using the enabling is\", enabled )"
   ]
  },
  {
   "cell_type": "code",
   "execution_count": 28,
   "id": "6ccd1170",
   "metadata": {},
   "outputs": [
    {
     "name": "stdout",
     "output_type": "stream",
     "text": [
      "The number of XMAS in the grid is: 2401\n"
     ]
    }
   ],
   "source": [
    "\"\"\"Day 4\"\"\"\n",
    "##Part 1\n",
    "\n",
    "def count_xmas_in_grid(grid):\n",
    "    rows = len(grid)\n",
    "    cols = len(grid[0])\n",
    "    target = \"XMAS\"\n",
    "    target_len = len(target)\n",
    "\n",
    "    # Directions: (dx, dy)\n",
    "    directions = [\n",
    "        (0, 1),   # right\n",
    "        (0, -1),  # left\n",
    "        (1, 0),   # down\n",
    "        (-1, 0),  # up\n",
    "        (1, 1),   # down-right\n",
    "        (-1, -1), # up-left\n",
    "        (-1, 1),  # up-right\n",
    "        (1, -1),  # down-left\n",
    "    ]\n",
    "\n",
    "    count = 0\n",
    "\n",
    "    for i in range(rows):\n",
    "        for j in range(cols):\n",
    "            for dx, dy in directions:\n",
    "                matched = True\n",
    "                for k in range(target_len):\n",
    "                    ni = i + k * dx\n",
    "                    nj = j + k * dy\n",
    "                    if ni < 0 or ni >= rows or nj < 0 or nj >= cols or grid[ni][nj] != target[k]:\n",
    "                        matched = False\n",
    "                        break\n",
    "                if matched:\n",
    "                    count += 1\n",
    "    return count\n",
    "\n",
    "# Read the grid from the file\n",
    "with open(\"input4.txt\") as f:\n",
    "    grid = [line.strip() for line in f if line.strip()]\n",
    "\n",
    "# Call the function and print the result\n",
    "print(\"The number of XMAS in the grid is:\", count_xmas_in_grid(grid))\n"
   ]
  },
  {
   "cell_type": "code",
   "execution_count": null,
   "id": "88c4a4f5",
   "metadata": {},
   "outputs": [
    {
     "name": "stdout",
     "output_type": "stream",
     "text": [
      "Total X-MAS patterns: 1822\n"
     ]
    }
   ],
   "source": [
    "\"\"\"Day 4\"\"\"\n",
    "##Part 2\n",
    "\n",
    "def count_xmas_patterns(grid):\n",
    "    count = 0\n",
    "    rows = len(grid)\n",
    "    cols = len(grid[0])\n",
    "    \n",
    "    def is_valid_mas(c1, c2, c3):\n",
    "        return (c1, c2, c3) in [(\"M\", \"A\", \"S\"), (\"S\", \"A\", \"M\")]\n",
    "    \n",
    "    for r in range(1, rows - 1):\n",
    "        for c in range(1, cols - 1):\n",
    "            a = grid[r][c]\n",
    "            if a != \"A\":\n",
    "                continue\n",
    "            # Check both diagonals\n",
    "            d1 = (grid[r-1][c-1], a, grid[r+1][c+1])  # \\ diagonal\n",
    "            d2 = (grid[r-1][c+1], a, grid[r+1][c-1])  # / diagonal\n",
    "            if is_valid_mas(*d1) and is_valid_mas(*d2):\n",
    "                count += 1\n",
    "    return count\n",
    "\n",
    "# Load the puzzle input\n",
    "with open(\"input4.txt\", \"r\") as f:\n",
    "    lines = [line.strip() for line in f if line.strip()]\n",
    "    \n",
    "result = count_xmas_patterns(lines)\n",
    "print(\"Total X-MAS patterns:\", result)\n"
   ]
  }
 ],
 "metadata": {
  "kernelspec": {
   "display_name": "Python 3",
   "language": "python",
   "name": "python3"
  },
  "language_info": {
   "codemirror_mode": {
    "name": "ipython",
    "version": 3
   },
   "file_extension": ".py",
   "mimetype": "text/x-python",
   "name": "python",
   "nbconvert_exporter": "python",
   "pygments_lexer": "ipython3",
   "version": "3.12.4"
  }
 },
 "nbformat": 4,
 "nbformat_minor": 5
}
